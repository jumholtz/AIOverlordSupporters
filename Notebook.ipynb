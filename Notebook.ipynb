{
 "cells": [
  {
   "cell_type": "markdown",
   "metadata": {},
   "source": [
    "\n"
   ]
  },
  {
   "cell_type": "markdown",
   "metadata": {},
   "source": [
    "#  Project Overview"
   ]
  },
  {
   "cell_type": "markdown",
   "metadata": {},
   "source": [
    "Group Members:\n",
    "Maya Sandlin\n",
    "Jake Umholtz\n",
    "Robert Golden\n",
    "Daniel Robles\n",
    "Maanik Gupta"
   ]
  },
  {
   "cell_type": "markdown",
   "metadata": {},
   "source": [
    "This notebook contains our project goals, data, methods, and results"
   ]
  },
  {
   "cell_type": "markdown",
   "metadata": {},
   "source": [
    "# Business Understanding "
   ]
  },
  {
   "cell_type": "markdown",
   "metadata": {},
   "source": [
    "Computing Vision is a relative newcomer to the film production market, having little to no experience producing movies; for this reason, Computing Vision selected Deloitte to advise them on the creation of an initial, data-driven film production strategy.\n",
    "\n",
    "Our measure of success was domestic Box Office revenue. We chose this metric because box office revenue is the first way film studios generate a cash flow. As a new movie studio, it is important for Computing Vision to start generating a cash flow as quickly and as largely as possible. Also, the production of films is an expensive endeavor, a successful box office performance can help recover the initial investments of creating a film. Box office revenue is also a good indicator of public sentiment as it indirectly measures how many people are physically going to watch the film in theaters. This serves as baseline check for future questioning regarding at home and digital release. \n",
    "\n",
    "With Box Office revenue as our primary indicator of success, we used data to answer the following question; what components of a film creates a box office hit? \n",
    "\n",
    "We quickly identified runtime, genre, and MPAA rating as foundational components for creating a box office hit. We identified these three components as they are the key drivers to reaching a large audience. If Computing Vision's films can capture a large audience, they have a higher probability of creating a box office hit, i.e. attract more people to pay to watch the film. \n"
   ]
  },
  {
   "cell_type": "markdown",
   "metadata": {},
   "source": [
    "# Data Understanding"
   ]
  },
  {
   "cell_type": "markdown",
   "metadata": {},
   "source": [
    "We focused our analysis on the Rotten Tomatoes Movie Information dataset, known as the rt_movie_info spreadsheet as it contained the necessary box office, genre, and movie length information. \n",
    "\n",
    "We also used the The Numbers movie budget dataset to calculate the median movie budget as well as how many films had budgets at and above $100 million. This information supported our claim on why focusing on Box Office revenue is vital for Computing Vision."
   ]
  },
  {
   "cell_type": "markdown",
   "metadata": {},
   "source": [
    "# Data Preparation and Analysis"
   ]
  },
  {
   "cell_type": "markdown",
   "metadata": {},
   "source": [
    "For each recommendation - genre, runtime, MPAA rating - we chose to drop the null values because the data set is large enough at over 1500 records to handle the loss of data. Also, much of the data set is highly varied, so using the mean or median would not be a fully accurate representation. "
   ]
  },
  {
   "cell_type": "markdown",
   "metadata": {},
   "source": [
    "Rationale: Import the necessary python libraries to perform analysis"
   ]
  },
  {
   "cell_type": "code",
   "execution_count": 1,
   "metadata": {
    "ExecuteTime": {
     "end_time": "2022-08-22T15:19:15.450872Z",
     "start_time": "2022-08-22T15:19:13.428080Z"
    }
   },
   "outputs": [],
   "source": [
    "import pandas as pd\n",
    "import numpy as np\n",
    "import matplotlib.pyplot as plt\n",
    "import seaborn as sns\n",
    "import scipy.stats as stats"
   ]
  },
  {
   "cell_type": "markdown",
   "metadata": {},
   "source": [
    "Importing data and naming variables"
   ]
  },
  {
   "cell_type": "code",
   "execution_count": 2,
   "metadata": {
    "ExecuteTime": {
     "end_time": "2022-08-22T15:19:15.762255Z",
     "start_time": "2022-08-22T15:19:15.450872Z"
    }
   },
   "outputs": [],
   "source": [
    "movie_gross = pd.read_csv('zippedData/bom.movie_gross.csv')\n",
    "rt_movie_info = pd.read_csv('zippedData/rt.movie_info.csv')\n",
    "rt_review = pd.read_csv('zippedData/rt.reviews.csv', encoding='unicode_escape')\n",
    "tn_movie_budgets = pd.read_csv('zippedData/tn.movie_budgets.csv')\n",
    "tmdb_movies = pd.read_csv('zippedData/tmdb.movies.csv', index_col=0)"
   ]
  },
  {
   "cell_type": "markdown",
   "metadata": {},
   "source": [
    "Analysis for the median movie budget and for movies that had a budget at or above $100 million."
   ]
  },
  {
   "cell_type": "code",
   "execution_count": 3,
   "metadata": {
    "ExecuteTime": {
     "end_time": "2022-08-22T15:19:15.781554Z",
     "start_time": "2022-08-22T15:19:15.765546Z"
    }
   },
   "outputs": [
    {
     "name": "stdout",
     "output_type": "stream",
     "text": [
      "id                   0\n",
      "release_date         0\n",
      "movie                0\n",
      "production_budget    0\n",
      "domestic_gross       0\n",
      "worldwide_gross      0\n",
      "dtype: int64\n"
     ]
    }
   ],
   "source": [
    "# checking for null values\n",
    "print(tn_movie_budgets.isnull().sum())"
   ]
  },
  {
   "cell_type": "markdown",
   "metadata": {},
   "source": [
    "Data cleaning for movie budgets and calculating the median budget and number of films with production budget over $100 million"
   ]
  },
  {
   "cell_type": "code",
   "execution_count": 4,
   "metadata": {
    "ExecuteTime": {
     "end_time": "2022-08-22T15:19:15.821571Z",
     "start_time": "2022-08-22T15:19:15.781554Z"
    }
   },
   "outputs": [
    {
     "name": "stdout",
     "output_type": "stream",
     "text": [
      "Median Production Budget: $ 17000000.0\n"
     ]
    }
   ],
   "source": [
    "# turning the budget into a string so it is easy to clean\n",
    "tn_movie_budgets['production_budget'] = tn_movie_budgets['production_budget'].astype(str)\n",
    "\n",
    "# removing commas, dollar signs, and white space\n",
    "# turning the production budget back into an integer so calculations can be performed\n",
    "tn_movie_budgets['production_budget'] = tn_movie_budgets['production_budget'].str.replace(',', '')\n",
    "tn_movie_budgets['production_budget'] = tn_movie_budgets['production_budget'].str.replace('$', '')\n",
    "tn_movie_budgets['production_budget'] = tn_movie_budgets['production_budget'].str.replace(' ', '')\n",
    "tn_movie_budgets['production_budget'] = tn_movie_budgets['production_budget'].astype(int)\n",
    "\n",
    "# calculating median\n",
    "median_budget = tn_movie_budgets['production_budget'].median()\n",
    "\n",
    "# counting the number of films with a production budget over $100 million\n",
    "mill_budget = tn_movie_budgets[tn_movie_budgets['production_budget'] >= 100000000].count()\n",
    "\n",
    "print(f'Median Production Budget: $ {median_budget}')"
   ]
  },
  {
   "cell_type": "code",
   "execution_count": 5,
   "metadata": {
    "ExecuteTime": {
     "end_time": "2022-08-22T15:19:15.837570Z",
     "start_time": "2022-08-22T15:19:15.821571Z"
    }
   },
   "outputs": [
    {
     "name": "stdout",
     "output_type": "stream",
     "text": [
      "Number of films with a budget that is >= $100 million: id                   406\n",
      "release_date         406\n",
      "movie                406\n",
      "production_budget    406\n",
      "domestic_gross       406\n",
      "worldwide_gross      406\n",
      "dtype: int64\n"
     ]
    }
   ],
   "source": [
    "print(f'Number of films with a budget that is >= $100 million: {mill_budget}')"
   ]
  },
  {
   "cell_type": "markdown",
   "metadata": {},
   "source": [
    "## Genre"
   ]
  },
  {
   "cell_type": "markdown",
   "metadata": {},
   "source": [
    "Data cleaning for genres "
   ]
  },
  {
   "cell_type": "code",
   "execution_count": 6,
   "metadata": {
    "ExecuteTime": {
     "end_time": "2022-08-22T15:19:15.885564Z",
     "start_time": "2022-08-22T15:19:15.837570Z"
    }
   },
   "outputs": [],
   "source": [
    "# segregating genre and box office from the dataset\n",
    "movie_genre = rt_movie_info[['genre','box_office']]\n",
    "# cleaning the segregated variables by dropping null values\n",
    "clean_genre = movie_genre.dropna()\n",
    "genres_sorted = movie_genre['genre'].sort_values().dropna()\n",
    "genres_sorted.value_counts().head (30)\n",
    "#using this data, the main six categories include: drama, comedy, horror, action, romance, and classics\n",
    "\n",
    "#determining the average revenue\n",
    "\n",
    "#drama\n",
    "drama = clean_genre[clean_genre['genre'].str.contains('Drama')]\n",
    "drama_revenue = drama ['box_office']\n",
    "drama_revenue_clean = drama_revenue.dropna()\n",
    "drama_avg_revenue = np.mean(drama_revenue_clean)\n",
    "drama_med = np.mean(drama_revenue_clean)\n",
    "\n",
    "#comedy\n",
    "comedy = clean_genre[clean_genre['genre'].str.contains('Comedy')]\n",
    "comedy_revenue = comedy ['box_office']\n",
    "comedy_revenue_clean = comedy_revenue.dropna()\n",
    "comedy_avg_revenue = np.mean(comedy_revenue_clean)\n",
    "comedy_med = np.mean(comedy_revenue_clean)\n",
    "\n",
    "#action \n",
    "action = clean_genre[clean_genre['genre'].str.contains('Action')]\n",
    "action_revenue = action ['box_office']\n",
    "action_revenue_clean = action_revenue.dropna()\n",
    "action_avg_revenue = np.mean(action_revenue_clean)\n",
    "action_med = np.mean(action_revenue_clean)\n",
    "\n",
    "#horror\n",
    "horror = clean_genre[clean_genre['genre'].str.contains('Horror')]\n",
    "horror_revenue = horror ['box_office']\n",
    "horror_revenue_clean = horror_revenue.dropna()\n",
    "horror_avg_revenue = np.mean(horror_revenue_clean)\n",
    "horror_med = np.mean(horror_revenue_clean)\n",
    "\n",
    "#romance\n",
    "romance = clean_genre[clean_genre['genre'].str.contains('Romance')]\n",
    "romance_revenue = horror ['box_office']\n",
    "romance_revenue_clean = romance_revenue.dropna()\n",
    "romance_avg_revenue = np.mean(romance_revenue_clean)\n",
    "romance_med = np.mean(romance_revenue_clean)\n",
    "\n",
    "#classics\n",
    "classics = clean_genre[clean_genre['genre'].str.contains('Classics')]\n",
    "classic_revenue = classics ['box_office']\n",
    "classic_revenue_clean = classic_revenue.dropna()\n",
    "classic_avg_revenue = np.mean(classic_revenue_clean)\n",
    "classic_med = np.mean(classic_revenue_clean)\n"
   ]
  },
  {
   "cell_type": "markdown",
   "metadata": {},
   "source": [
    "## MPAA Rating"
   ]
  },
  {
   "cell_type": "markdown",
   "metadata": {},
   "source": [
    "Data cleaning for MPAA ratings"
   ]
  },
  {
   "cell_type": "code",
   "execution_count": 7,
   "metadata": {
    "ExecuteTime": {
     "end_time": "2022-08-22T15:19:15.901918Z",
     "start_time": "2022-08-22T15:19:15.885564Z"
    }
   },
   "outputs": [],
   "source": [
    "#made copy of df to drop Nan values and generate insights\n",
    "movie_info = rt_movie_info.copy()"
   ]
  },
  {
   "cell_type": "code",
   "execution_count": 8,
   "metadata": {
    "ExecuteTime": {
     "end_time": "2022-08-22T15:19:15.917582Z",
     "start_time": "2022-08-22T15:19:15.901918Z"
    }
   },
   "outputs": [],
   "source": [
    "#drop records with nan values\n",
    "movie_info = movie_info.dropna()"
   ]
  },
  {
   "cell_type": "code",
   "execution_count": 9,
   "metadata": {
    "ExecuteTime": {
     "end_time": "2022-08-22T15:19:15.933569Z",
     "start_time": "2022-08-22T15:19:15.917582Z"
    }
   },
   "outputs": [],
   "source": [
    "# turing box office into a string for cleaning\n",
    "movie_info['box_office'] = movie_info['box_office'].astype(str)"
   ]
  },
  {
   "cell_type": "code",
   "execution_count": 10,
   "metadata": {
    "ExecuteTime": {
     "end_time": "2022-08-22T15:19:15.949585Z",
     "start_time": "2022-08-22T15:19:15.933569Z"
    }
   },
   "outputs": [],
   "source": [
    "#remove commas\n",
    "movie_info['box_office']=movie_info['box_office'].str.replace(',','')"
   ]
  },
  {
   "cell_type": "code",
   "execution_count": 11,
   "metadata": {
    "ExecuteTime": {
     "end_time": "2022-08-22T15:19:15.965572Z",
     "start_time": "2022-08-22T15:19:15.949585Z"
    }
   },
   "outputs": [],
   "source": [
    "# making it so that we can sort and graph by the budget values\n",
    "movie_info['box_office']=movie_info['box_office'].astype(float)"
   ]
  },
  {
   "cell_type": "code",
   "execution_count": 12,
   "metadata": {
    "ExecuteTime": {
     "end_time": "2022-08-22T15:19:15.981587Z",
     "start_time": "2022-08-22T15:19:15.965572Z"
    }
   },
   "outputs": [],
   "source": [
    "# creating variables for each rating, narrowing down the table to that respective rating\n",
    "R = movie_info[movie_info['rating']=='R']\n",
    "PG = movie_info[movie_info['rating']=='PG']\n",
    "PG13 = movie_info[movie_info['rating']=='PG-13']\n",
    "G = movie_info[movie_info['rating']=='G']\n",
    "NC17 = movie_info[movie_info['rating']=='NC17']\n",
    "NR = movie_info[movie_info['rating']=='NR']"
   ]
  },
  {
   "cell_type": "code",
   "execution_count": 13,
   "metadata": {
    "ExecuteTime": {
     "end_time": "2022-08-22T15:19:15.997577Z",
     "start_time": "2022-08-22T15:19:15.981587Z"
    }
   },
   "outputs": [],
   "source": [
    "#new variables for the mean and median box office revenue\n",
    "r=R['box_office'].mean()\n",
    "rmed=R['box_office'].median()\n",
    "pg=PG['box_office'].mean()\n",
    "pgmed=PG['box_office'].median()\n",
    "pg13=PG13['box_office'].mean()\n",
    "pg13med=PG13['box_office'].median()\n",
    "g=G['box_office'].mean()\n",
    "gmed=G['box_office'].median()\n",
    "nc17=NC17['box_office'].mean()\n",
    "nc17med=NC17['box_office'].median()\n",
    "nr=NR['box_office'].mean()\n",
    "nrmed=NR['box_office'].median()"
   ]
  },
  {
   "cell_type": "markdown",
   "metadata": {},
   "source": [
    "Creating a dictionary for easier graphing "
   ]
  },
  {
   "cell_type": "code",
   "execution_count": 14,
   "metadata": {
    "ExecuteTime": {
     "end_time": "2022-08-22T15:19:16.013580Z",
     "start_time": "2022-08-22T15:19:15.997577Z"
    }
   },
   "outputs": [],
   "source": [
    "#this dictionary containing the mean variables will help with graphing\n",
    "ratings_dict = {'R':r,'PG':pg,'PG-13':pg13,'G':g,'NC-17':nc17,'NR':nr}"
   ]
  },
  {
   "cell_type": "code",
   "execution_count": 15,
   "metadata": {
    "ExecuteTime": {
     "end_time": "2022-08-22T15:19:16.021578Z",
     "start_time": "2022-08-22T15:19:16.013580Z"
    }
   },
   "outputs": [],
   "source": [
    "#same as previous dictionary but for median variables\n",
    "ratings_dict_med = {'R':rmed,'PG':pgmed,'PG-13':pg13med,'G':gmed,'NC-17':nc17med,'NR':nrmed}"
   ]
  },
  {
   "cell_type": "markdown",
   "metadata": {},
   "source": [
    "## Runtime"
   ]
  },
  {
   "cell_type": "markdown",
   "metadata": {},
   "source": [
    "Data cleaning for runtime"
   ]
  },
  {
   "cell_type": "code",
   "execution_count": 16,
   "metadata": {
    "ExecuteTime": {
     "end_time": "2022-08-22T15:19:16.037581Z",
     "start_time": "2022-08-22T15:19:16.021578Z"
    }
   },
   "outputs": [],
   "source": [
    "# renaming variables for sake of clarity\n",
    "rt_movie_info_runtime = rt_movie_info"
   ]
  },
  {
   "cell_type": "code",
   "execution_count": 17,
   "metadata": {
    "ExecuteTime": {
     "end_time": "2022-08-22T15:19:16.061599Z",
     "start_time": "2022-08-22T15:19:16.037581Z"
    }
   },
   "outputs": [],
   "source": [
    "# dropping null values\n",
    "rt_movie_info_runtime = rt_movie_info.dropna()\n",
    "\n",
    "box_office = []\n",
    "for v in rt_movie_info_runtime['box_office'].dropna():\n",
    "    box_office.append(box_office)"
   ]
  },
  {
   "cell_type": "code",
   "execution_count": 18,
   "metadata": {
    "ExecuteTime": {
     "end_time": "2022-08-22T15:19:16.085588Z",
     "start_time": "2022-08-22T15:19:16.061599Z"
    }
   },
   "outputs": [
    {
     "name": "stderr",
     "output_type": "stream",
     "text": [
      "<ipython-input-18-2b1f70847de7>:11: SettingWithCopyWarning: \n",
      "A value is trying to be set on a copy of a slice from a DataFrame.\n",
      "Try using .loc[row_indexer,col_indexer] = value instead\n",
      "\n",
      "See the caveats in the documentation: https://pandas.pydata.org/pandas-docs/stable/user_guide/indexing.html#returning-a-view-versus-a-copy\n",
      "  rt_movie_info_runtime['runtime_clean'] = runtime_clean\n"
     ]
    }
   ],
   "source": [
    "runtime_raw = [] #for freshly-extracted runtimes\n",
    "runtime_clean = [] #for runtime w/o whitespace\n",
    "\n",
    "for val in rt_movie_info_runtime['runtime'].str[:3]: #extract first 3 characters, movies under 100 min will have whitespace\n",
    "    runtime_raw.append(val) \n",
    "for val in runtime_raw: #strip whitespace\n",
    "    runtime_strip = val.replace(' ', '') \n",
    "    runtime_clean.append(runtime_strip)\n",
    "\n",
    "#create new column 'runtime_clean'\n",
    "rt_movie_info_runtime['runtime_clean'] = runtime_clean"
   ]
  },
  {
   "cell_type": "code",
   "execution_count": 19,
   "metadata": {
    "ExecuteTime": {
     "end_time": "2022-08-22T15:19:16.117945Z",
     "start_time": "2022-08-22T15:19:16.085588Z"
    }
   },
   "outputs": [
    {
     "name": "stdout",
     "output_type": "stream",
     "text": [
      "<class 'pandas.core.frame.DataFrame'>\n",
      "Int64Index: 235 entries, 1 to 1545\n",
      "Data columns (total 14 columns):\n",
      " #   Column            Non-Null Count  Dtype  \n",
      "---  ------            --------------  -----  \n",
      " 0   id                235 non-null    int64  \n",
      " 1   synopsis          235 non-null    object \n",
      " 2   rating            235 non-null    object \n",
      " 3   genre             235 non-null    object \n",
      " 4   director          235 non-null    object \n",
      " 5   writer            235 non-null    object \n",
      " 6   theater_date      235 non-null    object \n",
      " 7   dvd_date          235 non-null    object \n",
      " 8   currency          235 non-null    object \n",
      " 9   box_office        235 non-null    float64\n",
      " 10  runtime           235 non-null    object \n",
      " 11  studio            235 non-null    object \n",
      " 12  runtime_clean     235 non-null    object \n",
      " 13  box_office_clean  235 non-null    float64\n",
      "dtypes: float64(2), int64(1), object(11)\n",
      "memory usage: 27.5+ KB\n"
     ]
    },
    {
     "name": "stderr",
     "output_type": "stream",
     "text": [
      "<ipython-input-19-67149c2021ed>:2: SettingWithCopyWarning: \n",
      "A value is trying to be set on a copy of a slice from a DataFrame.\n",
      "Try using .loc[row_indexer,col_indexer] = value instead\n",
      "\n",
      "See the caveats in the documentation: https://pandas.pydata.org/pandas-docs/stable/user_guide/indexing.html#returning-a-view-versus-a-copy\n",
      "  rt_movie_info_runtime['box_office_clean'] = rt_movie_info_runtime['box_office']\n"
     ]
    }
   ],
   "source": [
    "# creating new column for future analysis\n",
    "rt_movie_info_runtime['box_office_clean'] = rt_movie_info_runtime['box_office']\n",
    "\n",
    "# viewing dtypes in dataframe\n",
    "rt_movie_info_runtime.info()"
   ]
  },
  {
   "cell_type": "code",
   "execution_count": 20,
   "metadata": {
    "ExecuteTime": {
     "end_time": "2022-08-22T15:19:16.149604Z",
     "start_time": "2022-08-22T15:19:16.117945Z"
    }
   },
   "outputs": [
    {
     "data": {
      "text/plain": [
       "1         600000.0\n",
       "6       41032915.0\n",
       "7         224114.0\n",
       "15       1039869.0\n",
       "18      20518224.0\n",
       "           ...    \n",
       "1530    72700000.0\n",
       "1537     1320005.0\n",
       "1541    25335935.0\n",
       "1542     1416189.0\n",
       "1545       59371.0\n",
       "Name: box_office_clean, Length: 235, dtype: float64"
      ]
     },
     "execution_count": 20,
     "metadata": {},
     "output_type": "execute_result"
    }
   ],
   "source": [
    "# changing objects to strings for further cleaning\n",
    "rt_movie_info_runtime = rt_movie_info_runtime.astype(str)\n",
    "\n",
    "# removing the comma from box office for easier future analysis\n",
    "rt_movie_info_runtime['box_office_clean'].map(lambda x: float(x.replace(',', '')))"
   ]
  },
  {
   "cell_type": "code",
   "execution_count": 21,
   "metadata": {
    "ExecuteTime": {
     "end_time": "2022-08-22T15:19:16.165607Z",
     "start_time": "2022-08-22T15:19:16.149604Z"
    }
   },
   "outputs": [],
   "source": [
    "# changing box office back into a float for analysis \n",
    "rt_movie_info_runtime['box_office_clean'] = rt_movie_info_runtime['box_office_clean'].astype(float)"
   ]
  },
  {
   "cell_type": "code",
   "execution_count": 22,
   "metadata": {
    "ExecuteTime": {
     "end_time": "2022-08-22T15:19:16.181597Z",
     "start_time": "2022-08-22T15:19:16.165607Z"
    }
   },
   "outputs": [],
   "source": [
    "#create new dataframe\n",
    "df2 = rt_movie_info_runtime[['runtime_clean','box_office_clean']].copy()\n",
    "\n",
    "#ensure runtime valuse are recognized as integers\n",
    "df2['runtime_clean'] = df2['runtime_clean'].astype(int)\n",
    "\n",
    "#ensure box office slaes values are recognized as integers\n",
    "df2['box_office_clean'] = df2['box_office_clean'].astype(int)"
   ]
  },
  {
   "cell_type": "code",
   "execution_count": 23,
   "metadata": {
    "ExecuteTime": {
     "end_time": "2022-08-22T15:19:16.221601Z",
     "start_time": "2022-08-22T15:19:16.181597Z"
    }
   },
   "outputs": [
    {
     "name": "stdout",
     "output_type": "stream",
     "text": [
      "Descriptive Statistics for Runtime\n",
      "Mean runtime: 106.66382978723404\n",
      "\n",
      "Maximum runtime: 188\n",
      "75th Percentile: 117.0\n",
      "Median runtime: 105.0\n",
      "25th Percentile: 93.0\n",
      "Minimum runtime: 67\n",
      "Interquartile Range: 24.0\n",
      "Std. Dev. of runtime: 18.14712458129922\n",
      "99.7% of observations should lay between: 70.3695806246356 - 142.95807894983247\n",
      "\n",
      "Descriptive Statistics for Box Office Sales\n",
      "Mean box office sales: 41958400.02127659\n",
      "\n",
      "Maximum sales: 368000000\n",
      "75th Percentile: 52649522.5\n",
      "Median sales: 15536310.0\n",
      "25th Percentile: 2302444.5\n",
      "Minimum sales: 363\n",
      "Std. Dev of Sales: 62630155.518367976\n",
      "Interquartile Range: 50347078.0\n",
      "99.7% of observations should lay between: -83301911.01545936 - 139206163961.8349\n",
      "\n",
      "Correlation Coefficient\n",
      "                  runtime_clean  box_office_clean\n",
      "runtime_clean          1.000000          0.312157\n",
      "box_office_clean       0.312157          1.000000\n",
      "\n",
      "Less - Runtime Mean: 92.43103448275862 Box Office Sales Mean: 28014808.870689657 n: 116\n",
      "More - Runtime Mean: 121.21929824561404 Box Office Sales Mean: 56785095.37719298 n: 114\n"
     ]
    }
   ],
   "source": [
    "#Descriptive Stats for Runtime\n",
    "max1 = df2['runtime_clean'].max()\n",
    "Q1_3 = df2['runtime_clean'].quantile(q=0.75)\n",
    "mean1 = df2['runtime_clean'].mean()\n",
    "med1 = df2['runtime_clean'].median()\n",
    "std1 = df2['runtime_clean'].std()\n",
    "Q1_1 = df2['runtime_clean'].quantile(q=0.25)\n",
    "min1 = df2['runtime_clean'].min()\n",
    "\n",
    "print('Descriptive Statistics for Runtime')\n",
    "print('Mean runtime:', mean1)\n",
    "print('')\n",
    "print('Maximum runtime:', max1)\n",
    "print('75th Percentile:', Q1_3)\n",
    "print('Median runtime:', med1)\n",
    "print('25th Percentile:', Q1_1)\n",
    "print('Minimum runtime:', min1)\n",
    "print('Interquartile Range:', Q1_3-Q1_1)\n",
    "print('Std. Dev. of runtime:', std1)\n",
    "\n",
    "print('99.7% of observations should lay between:', mean1-(std1*2), '-',mean1+(std1*2))\n",
    "\n",
    "print('') #for readability\n",
    "\n",
    "#Descriptive Stats for Box Office Sales\n",
    "mean2 = df2['box_office_clean'].mean()\n",
    "max2 = df2['box_office_clean'].max()\n",
    "Q2_3 = df2['box_office_clean'].quantile(q=0.75)\n",
    "med2 = df2['box_office_clean'].median()\n",
    "Q2_1 = df2['box_office_clean'].quantile(q=0.25)\n",
    "min2 = df2['box_office_clean'].min()\n",
    "std2 = df2['box_office_clean'].std()\n",
    "\n",
    "print('Descriptive Statistics for Box Office Sales')\n",
    "print('Mean box office sales:', mean2)\n",
    "print('')\n",
    "print('Maximum sales:', max2)\n",
    "print('75th Percentile:', Q2_3)\n",
    "print('Median sales:', med2)\n",
    "print('25th Percentile:', Q2_1)\n",
    "print('Minimum sales:', min2)\n",
    "print('Std. Dev of Sales:', std2)\n",
    "print('Interquartile Range:', Q2_3-Q2_1)\n",
    "print('99.7% of observations should lay between:', mean2-(std2*2), '-', mean2+(std2*2222))\n",
    "\n",
    "print('') #for readability\n",
    "print('Correlation Coefficient')      \n",
    "print(df2.corr()) #calculate Pearson correlation coefficient for variables in df2\n",
    "\n",
    "#generate a normal distribution where mean1 is avg, sd1 is std dev, and n=235\n",
    "d1 = np.random.normal(mean1, std1, 235) \n",
    "#generate a normal distribution where mean2 is avg, sd2 is std dev, and n=235\n",
    "d2 = np.random.normal(mean2, std2, 235) \n",
    "\n",
    "df2more = df2[df2['runtime_clean'] > 105]\n",
    "df2less = df2[df2['runtime_clean'] < 105]\n",
    "print('')\n",
    "print('Less - Runtime Mean:', df2less['runtime_clean'].mean(), \n",
    "      'Box Office Sales Mean:', df2less['box_office_clean'].mean(), \n",
    "      'n:', len(df2less))\n",
    "print('More - Runtime Mean:', df2more['runtime_clean'].mean(),\n",
    "      'Box Office Sales Mean:', df2more['box_office_clean'].mean(), \n",
    "      'n:', len(df2more))\n",
    "#df2['runtime_clean'].plot.box(grid='True')\n",
    "#df2['box_office_clean'].plot.box(grid='True')"
   ]
  },
  {
   "cell_type": "markdown",
   "metadata": {},
   "source": [
    "# Visualization"
   ]
  },
  {
   "cell_type": "markdown",
   "metadata": {},
   "source": [
    "## Genre"
   ]
  },
  {
   "cell_type": "markdown",
   "metadata": {},
   "source": [
    "Creating a bar graphs to compare genres (genres are a categorical variable)"
   ]
  },
  {
   "cell_type": "code",
   "execution_count": 24,
   "metadata": {
    "ExecuteTime": {
     "end_time": "2022-08-22T15:19:16.497982Z",
     "start_time": "2022-08-22T15:19:16.221601Z"
    }
   },
   "outputs": [
    {
     "data": {
      "image/png": "[encoded data removed]",
      "text/plain": [
       "<Figure size 432x288 with 1 Axes>"
      ]
     },
     "metadata": {
      "needs_background": "light"
     },
     "output_type": "display_data"
    }
   ],
   "source": [
    "top_genre={\"drama\":drama_avg_revenue, \"comedy\":comedy_avg_revenue, \"action\":action_avg_revenue, \n",
    "           \"horror\": horror_avg_revenue, \"romance\":romance_avg_revenue, \"classics\": classic_avg_revenue}\n",
    "\n",
    "#creating the graph to compare the top genres\n",
    "import matplotlib.pyplot as plt\n",
    "%matplotlib inline\n",
    "\n",
    "fig, ax=plt.subplots()\n",
    "# plt.ticklabel_format(style='plain')\n",
    "ax.bar(top_genre.keys(),top_genre.values())\n",
    "\n",
    "\n",
    "\n",
    "ax.set_title(\"Top Genres' Revenues\")\n",
    "ax.set_xlabel(\"Top Genres\")\n",
    "ax.set_ylabel(\"Revenue in Tens of Millions (USD)\");"
   ]
  },
  {
   "cell_type": "code",
   "execution_count": 25,
   "metadata": {
    "ExecuteTime": {
     "end_time": "2022-08-22T15:19:16.718526Z",
     "start_time": "2022-08-22T15:19:16.497982Z"
    }
   },
   "outputs": [
    {
     "data": {
      "text/plain": [
       "Text(0, 0.5, 'Median Revenue (USD)')"
      ]
     },
     "execution_count": 25,
     "metadata": {},
     "output_type": "execute_result"
    },
    {
     "data": {
      "image/png": "[encoded data removed]",
      "text/plain": [
       "<Figure size 432x288 with 1 Axes>"
      ]
     },
     "metadata": {
      "needs_background": "light"
     },
     "output_type": "display_data"
    }
   ],
   "source": [
    "top_genre_med = {\"drama\":drama_med, \"comedy\":comedy_med, \"action\":action_med, \n",
    "           \"horror\": horror_med, \"romance\":romance_med, \"classics\": classic_med}\n",
    "\n",
    "fig, ax = plt.subplots()\n",
    "plt.ticklabel_format(style = 'plain')\n",
    "ax.bar(top_genre_med.keys(),top_genre_med.values() )\n",
    "\n",
    "\n",
    "\n",
    "\n",
    "\n",
    "ax.set_title(\"Median Box Office Revenue by Genre\")\n",
    "ax.set_xlabel(\"Genres\")\n",
    "ax.set_ylabel(\"Median Revenue (USD)\")"
   ]
  },
  {
   "cell_type": "markdown",
   "metadata": {},
   "source": [
    "## MPAA Rating"
   ]
  },
  {
   "cell_type": "markdown",
   "metadata": {},
   "source": [
    "Creating bar graphs to compare MPAA ratings (MPAA ratings are categorical variables)"
   ]
  },
  {
   "cell_type": "code",
   "execution_count": 26,
   "metadata": {
    "ExecuteTime": {
     "end_time": "2022-08-22T15:19:16.944622Z",
     "start_time": "2022-08-22T15:19:16.718526Z"
    }
   },
   "outputs": [
    {
     "data": {
      "image/png": "[encoded data removed]",
      "text/plain": [
       "<Figure size 432x288 with 1 Axes>"
      ]
     },
     "metadata": {
      "needs_background": "light"
     },
     "output_type": "display_data"
    }
   ],
   "source": [
    "#Mean box office revenue by rating\n",
    "fig, ax=plt.subplots()\n",
    "plt.ticklabel_format(style='plain')\n",
    "ax.bar(ratings_dict.keys(),ratings_dict.values() )\n",
    "\n",
    "\n",
    "\n",
    "ax.set_title(\"Average Box Office Revenue by MPAA Rating\")\n",
    "ax.set_xlabel(\"MPAA Ratings\")\n",
    "ax.set_ylabel(\" Average Revenue (USD)\");"
   ]
  },
  {
   "cell_type": "code",
   "execution_count": 27,
   "metadata": {
    "ExecuteTime": {
     "end_time": "2022-08-22T15:19:17.176515Z",
     "start_time": "2022-08-22T15:19:16.946116Z"
    }
   },
   "outputs": [
    {
     "data": {
      "image/png": "[encoded data removed]",
      "text/plain": [
       "<Figure size 432x288 with 1 Axes>"
      ]
     },
     "metadata": {
      "needs_background": "light"
     },
     "output_type": "display_data"
    }
   ],
   "source": [
    "#median box office revenue by rating\n",
    "fig, ax=plt.subplots()\n",
    "plt.ticklabel_format(style='plain')\n",
    "ax.bar(ratings_dict_med.keys(),ratings_dict_med.values() )\n",
    "\n",
    "\n",
    "\n",
    "ax.set_title(\"Median Box Office Revenue by MPAA Rating\")\n",
    "ax.set_xlabel(\"MPAA Ratings\")\n",
    "ax.set_ylabel(\"Median Revenue (USD)\");"
   ]
  },
  {
   "cell_type": "markdown",
   "metadata": {},
   "source": [
    "## Runtime"
   ]
  },
  {
   "cell_type": "markdown",
   "metadata": {},
   "source": [
    "Creating a scatter plot to illustrate the relationship between Box Office Revenue and runtime"
   ]
  },
  {
   "cell_type": "code",
   "execution_count": 28,
   "metadata": {
    "ExecuteTime": {
     "end_time": "2022-08-22T15:19:18.139720Z",
     "start_time": "2022-08-22T15:19:17.179182Z"
    }
   },
   "outputs": [
    {
     "data": {
      "image/png": "[encoded data removed]",
      "text/plain": [
       "<Figure size 1080x720 with 1 Axes>"
      ]
     },
     "metadata": {
      "needs_background": "light"
     },
     "output_type": "display_data"
    }
   ],
   "source": [
    "fig, ax = plt.subplots(figsize=(15,10)) #Generate Scatter plot\n",
    "\n",
    "\n",
    "\n",
    "ax.scatter(df2['runtime_clean'], df2['box_office_clean'], label=\"actual data\")\n",
    "\n",
    "\n",
    "\n",
    "\n",
    "\n",
    "x_bounds = [min(df2['runtime_clean']), max(df2['runtime_clean'])]\n",
    "y_bounds = [min(df2['box_office_clean']), max(df2['box_office_clean'])]\n",
    "\n",
    "\n",
    "\n",
    "x_bounds_log = np.log2(x_bounds)\n",
    "y_bounds_log = np.log(y_bounds)\n",
    "\n",
    "\n",
    "\n",
    "\n",
    "\n",
    "\n",
    "\n",
    "ax.set_title(\"Runtime Moderately Influences Box Office Sales\")\n",
    "ax.set_xlabel(\"Minutes\")\n",
    "ax.set_ylabel(\"Sales in USD\")\n",
    "plt.yscale(\"symlog\")\n",
    "\n",
    "\n",
    "\n",
    "\n",
    "\n",
    "ax.legend();"
   ]
  },
  {
   "cell_type": "markdown",
   "metadata": {},
   "source": [
    "# Statistical Communication"
   ]
  },
  {
   "cell_type": "markdown",
   "metadata": {},
   "source": [
    "Conducted a one-tailed t-test to test the relationship between the action genre and box office performance\n",
    "\n",
    "Null Hypothesis: The action genre has no effect on box office revenue\n",
    "Alternative Hypothesis: Action films perform better in terms of box office revenue"
   ]
  },
  {
   "cell_type": "code",
   "execution_count": 29,
   "metadata": {
    "ExecuteTime": {
     "end_time": "2022-08-22T15:19:18.155721Z",
     "start_time": "2022-08-22T15:19:18.139720Z"
    }
   },
   "outputs": [
    {
     "data": {
      "text/plain": [
       "(-1.6448536269514729, 1.6448536269514722)"
      ]
     },
     "execution_count": 29,
     "metadata": {},
     "output_type": "execute_result"
    }
   ],
   "source": [
    "# defining variables for t-test\n",
    "pop=movie_info['box_office']\n",
    "act=action['box_office']\n",
    "alpha = .05\n",
    "\n",
    "stats.norm.ppf(alpha), stats.norm.ppf(1-alpha)"
   ]
  },
  {
   "cell_type": "code",
   "execution_count": 30,
   "metadata": {
    "ExecuteTime": {
     "end_time": "2022-08-22T15:19:18.171737Z",
     "start_time": "2022-08-22T15:19:18.155721Z"
    }
   },
   "outputs": [
    {
     "data": {
      "text/plain": [
       "Ttest_indResult(statistic=2.4041519619389393, pvalue=0.016792764209447402)"
      ]
     },
     "execution_count": 30,
     "metadata": {},
     "output_type": "execute_result"
    }
   ],
   "source": [
    "stats.ttest_ind(act,pop)"
   ]
  },
  {
   "cell_type": "code",
   "execution_count": 31,
   "metadata": {
    "ExecuteTime": {
     "end_time": "2022-08-22T15:19:18.188067Z",
     "start_time": "2022-08-22T15:19:18.171737Z"
    }
   },
   "outputs": [
    {
     "name": "stdout",
     "output_type": "stream",
     "text": [
      " Pvalue of 0.0168 less than the alpha value of 0.05\n"
     ]
    }
   ],
   "source": [
    "print(f' Pvalue of 0.0168 less than the alpha value of {alpha}')"
   ]
  },
  {
   "cell_type": "markdown",
   "metadata": {},
   "source": [
    "We can reject the null hypothesis that the action genre has no effect on box office revenue, and conclude that the action genre is associated with an increase in box office revenue."
   ]
  }
 ],
 "metadata": {
  "kernelspec": {
   "display_name": "Python 3",
   "language": "python",
   "name": "python3"
  },
  "language_info": {
   "codemirror_mode": {
    "name": "ipython",
    "version": 3
   },
   "file_extension": ".py",
   "mimetype": "text/x-python",
   "name": "python",
   "nbconvert_exporter": "python",
   "pygments_lexer": "ipython3",
   "version": "3.8.5"
  },
  "toc": {
   "base_numbering": 1,
   "nav_menu": {},
   "number_sections": true,
   "sideBar": true,
   "skip_h1_title": false,
   "title_cell": "Table of Contents",
   "title_sidebar": "Contents",
   "toc_cell": false,
   "toc_position": {
    "height": "calc(100% - 180px)",
    "left": "10px",
    "top": "150px",
    "width": "341.306px"
   },
   "toc_section_display": true,
   "toc_window_display": true
  },
  "varInspector": {
   "cols": {
    "lenName": 16,
    "lenType": 16,
    "lenVar": 40
   },
   "kernels_config": {
    "python": {
     "delete_cmd_postfix": "",
     "delete_cmd_prefix": "del ",
     "library": "var_list.py",
     "varRefreshCmd": "print(var_dic_list())"
    },
    "r": {
     "delete_cmd_postfix": ") ",
     "delete_cmd_prefix": "rm(",
     "library": "var_list.r",
     "varRefreshCmd": "cat(var_dic_list()) "
    }
   },
   "types_to_exclude": [
    "module",
    "function",
    "builtin_function_or_method",
    "instance",
    "_Feature"
   ],
   "window_display": false
  }
 },
 "nbformat": 4,
 "nbformat_minor": 2
}
