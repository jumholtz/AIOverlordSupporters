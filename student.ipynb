{
 "cells": [
  {
   "cell_type": "markdown",
   "metadata": {},
   "source": [
    "## Semester 1 Project Submission\n",
    "\n",
    "Please fill out:\n",
    "* Student name: \n",
    "* Instructor name: \n"
   ]
  },
  {
   "cell_type": "markdown",
   "metadata": {},
   "source": [
    "# Maanik Gupta"
   ]
  },
  {
   "cell_type": "markdown",
   "metadata": {},
   "source": [
    "# Maya Sandlin"
   ]
  },
  {
   "cell_type": "code",
   "execution_count": 1,
   "metadata": {},
   "outputs": [
    {
     "name": "stdout",
     "output_type": "stream",
     "text": [
      "41910959.925925925\n"
     ]
    },
    {
     "data": {
      "text/plain": [
       "Text(0, 0.5, 'Revenue (USD)')"
      ]
     },
     "execution_count": 1,
     "metadata": {},
     "output_type": "execute_result"
    },
    {
     "data": {
      "image/png": "[encoded data removed]",
      "text/plain": [
       "<Figure size 432x288 with 1 Axes>"
      ]
     },
     "metadata": {
      "needs_background": "light"
     },
     "output_type": "display_data"
    }
   ],
   "source": [
    "import pandas as pd\n",
    "import numpy as np\n",
    "movie_gross = pd.read_csv('zippedData/bom.movie_gross.csv')\n",
    "rt_movie_info = pd.read_csv('zippedData/rt.movie_info.csv')\n",
    "rt_review = pd.read_csv('zippedData/rt.reviews.csv', encoding='unicode_escape')\n",
    "tn_movie_budgets = pd.read_csv('zippedData/tn.movie_budgets.csv')\n",
    "tmdb_movies = pd.read_csv('zippedData/tmdb.movies.csv', index_col=0)\n",
    "\n",
    "movie_genre = rt_movie_info[['genre','box_office']]\n",
    "clean_genre = movie_genre.dropna()\n",
    "genres_sorted = movie_genre['genre'].sort_values().dropna()\n",
    "genres_sorted.value_counts().head (30)\n",
    "#using this data, the main six categories include: drama, comedy, horror, action, romance, and classics\n",
    "\n",
    "#determining the average revenue\n",
    "\n",
    "#drama\n",
    "drama = clean_genre[clean_genre['genre'].str.contains('Drama')]\n",
    "drama_revenue = drama ['box_office']\n",
    "drama_revenue_clean = drama_revenue.dropna()\n",
    "drama_avg_revenue = np.mean(drama_revenue_clean)\n",
    "drama_avg_revenue\n",
    "\n",
    "#comedy\n",
    "comedy = clean_genre[clean_genre['genre'].str.contains('Comedy')]\n",
    "comedy_revenue = comedy ['box_office']\n",
    "comedy_revenue_clean = comedy_revenue.dropna()\n",
    "comedy_avg_revenue = np.mean(comedy_revenue_clean)\n",
    "print(comedy_avg_revenue)\n",
    "\n",
    "#action \n",
    "action = clean_genre[clean_genre['genre'].str.contains('Action')]\n",
    "action_revenue = action ['box_office']\n",
    "action_revenue_clean = action_revenue.dropna()\n",
    "action_avg_revenue = np.mean(action_revenue_clean)\n",
    "action_avg_revenue \n",
    "\n",
    "#horror\n",
    "horror = clean_genre[clean_genre['genre'].str.contains('Horror')]\n",
    "horror_revenue = horror ['box_office']\n",
    "horror_revenue_clean = horror_revenue.dropna()\n",
    "horror_avg_revenue = np.mean(horror_revenue_clean)\n",
    "horror_avg_revenue\n",
    "\n",
    "#romance\n",
    "romance = clean_genre[clean_genre['genre'].str.contains('Romance')]\n",
    "romance_revenue = horror ['box_office']\n",
    "romance_revenue_clean = romance_revenue.dropna()\n",
    "romance_avg_revenue = np.mean(romance_revenue_clean)\n",
    "romance_avg_revenue\n",
    "\n",
    "#classics\n",
    "classics = clean_genre[clean_genre['genre'].str.contains('Classics')]\n",
    "classic_revenue = classics ['box_office']\n",
    "classic_revenue_clean = classic_revenue.dropna()\n",
    "classic_avg_revenue = np.mean(classic_revenue_clean)\n",
    "classic_avg_revenue\n",
    "\n",
    "\n",
    "top_genre={\"drama\":drama_avg_revenue, \"comedy\":comedy_avg_revenue, \"action\":action_avg_revenue, \"horror\": horror_avg_revenue, \"romance\":romance_avg_revenue, \"classics\": classic_avg_revenue}\n",
    "\n",
    "#creating the graph\n",
    "\n",
    "import matplotlib.pyplot as plt\n",
    "%matplotlib inline\n",
    "fig, ax=plt.subplots()\n",
    "ax.bar(top_genre.keys(),top_genre.values())\n",
    "\n",
    "ax.set_title(\"Top Genres' Revenues\")\n",
    "ax.set_xlabel(\"Top Genres\")\n",
    "ax.set_ylabel(\"Revenue (USD)\")\n"
   ]
  },
  {
   "cell_type": "markdown",
   "metadata": {},
   "source": [
    "# Robert Golden"
   ]
  },
  {
   "cell_type": "markdown",
   "metadata": {},
   "source": [
    "# Daniel Robles"
   ]
  },
  {
   "cell_type": "markdown",
   "metadata": {},
   "source": [
    "# Jake Umholtz "
   ]
  }
 ],
 "metadata": {
  "kernelspec": {
   "display_name": "Python 3",
   "language": "python",
   "name": "python3"
  },
  "language_info": {
   "codemirror_mode": {
    "name": "ipython",
    "version": 3
   },
   "file_extension": ".py",
   "mimetype": "text/x-python",
   "name": "python",
   "nbconvert_exporter": "python",
   "pygments_lexer": "ipython3",
   "version": "3.8.5"
  },
  "toc": {
   "base_numbering": 1,
   "nav_menu": {},
   "number_sections": true,
   "sideBar": true,
   "skip_h1_title": false,
   "title_cell": "Table of Contents",
   "title_sidebar": "Contents",
   "toc_cell": false,
   "toc_position": {},
   "toc_section_display": true,
   "toc_window_display": false
  },
  "varInspector": {
   "cols": {
    "lenName": 16,
    "lenType": 16,
    "lenVar": 40
   },
   "kernels_config": {
    "python": {
     "delete_cmd_postfix": "",
     "delete_cmd_prefix": "del ",
     "library": "var_list.py",
     "varRefreshCmd": "print(var_dic_list())"
    },
    "r": {
     "delete_cmd_postfix": ") ",
     "delete_cmd_prefix": "rm(",
     "library": "var_list.r",
     "varRefreshCmd": "cat(var_dic_list()) "
    }
   },
   "types_to_exclude": [
    "module",
    "function",
    "builtin_function_or_method",
    "instance",
    "_Feature"
   ],
   "window_display": false
  }
 },
 "nbformat": 4,
 "nbformat_minor": 2
}
